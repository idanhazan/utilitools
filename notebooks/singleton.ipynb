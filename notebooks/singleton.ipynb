{
 "cells": [
  {
   "cell_type": "code",
   "execution_count": 1,
   "id": "faede1e7-7c62-4f83-8860-891737ebe502",
   "metadata": {},
   "outputs": [],
   "source": [
    "import utilitools"
   ]
  },
  {
   "cell_type": "code",
   "execution_count": 2,
   "id": "61839674-339e-4b01-a92d-3503e546ebc6",
   "metadata": {},
   "outputs": [],
   "source": [
    "class SharedResource(metaclass=utilitools.Singleton):\n",
    "    def __init__(self, *args, **kwargs):\n",
    "        self.args = args\n",
    "        self.kwargs = kwargs\n",
    "\n",
    "    def __repr__(self):\n",
    "        return f'{self.__class__.__name__}(args={self.args}, kwargs={self.kwargs})'"
   ]
  },
  {
   "cell_type": "code",
   "execution_count": 3,
   "id": "f457415d-deb9-4a1f-b0e2-689bc9705357",
   "metadata": {},
   "outputs": [
    {
     "data": {
      "text/plain": [
       "SharedResource(args=(1, 2), kwargs={'x': 10, 'y': 20})"
      ]
     },
     "execution_count": 3,
     "metadata": {},
     "output_type": "execute_result"
    }
   ],
   "source": [
    "SharedResource(1, 2, x=10, y=20)"
   ]
  },
  {
   "cell_type": "code",
   "execution_count": 4,
   "id": "97875712-790f-4c5f-b1a2-e4e1e7ab5431",
   "metadata": {},
   "outputs": [
    {
     "data": {
      "text/plain": [
       "(1, 2)"
      ]
     },
     "execution_count": 4,
     "metadata": {},
     "output_type": "execute_result"
    }
   ],
   "source": [
    "SharedResource().args"
   ]
  },
  {
   "cell_type": "code",
   "execution_count": 5,
   "id": "da0e1f43-4d63-4d1c-b0e8-a65851a61d45",
   "metadata": {},
   "outputs": [
    {
     "data": {
      "text/plain": [
       "{'x': 10, 'y': 20}"
      ]
     },
     "execution_count": 5,
     "metadata": {},
     "output_type": "execute_result"
    }
   ],
   "source": [
    "SharedResource().kwargs"
   ]
  },
  {
   "cell_type": "code",
   "execution_count": null,
   "id": "17269a32-f505-4607-8d49-19816c3eb1c0",
   "metadata": {},
   "outputs": [],
   "source": []
  }
 ],
 "metadata": {
  "kernelspec": {
   "display_name": "test",
   "language": "python",
   "name": "test"
  },
  "language_info": {
   "codemirror_mode": {
    "name": "ipython",
    "version": 3
   },
   "file_extension": ".py",
   "mimetype": "text/x-python",
   "name": "python",
   "nbconvert_exporter": "python",
   "pygments_lexer": "ipython3",
   "version": "3.10.4"
  }
 },
 "nbformat": 4,
 "nbformat_minor": 5
}
