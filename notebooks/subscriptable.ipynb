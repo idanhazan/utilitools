{
 "cells": [
  {
   "cell_type": "code",
   "execution_count": 1,
   "id": "f231767d-4629-4b08-acc2-ae517be96363",
   "metadata": {},
   "outputs": [],
   "source": [
    "import utilitools"
   ]
  },
  {
   "cell_type": "code",
   "execution_count": 2,
   "id": "2642edf8-06b8-47f9-ab48-88d00d6e1208",
   "metadata": {},
   "outputs": [],
   "source": [
    "@utilitools.subscriptable(tuple)\n",
    "def digsum(n):\n",
    "    return sum(map(int, str(n)))"
   ]
  },
  {
   "cell_type": "code",
   "execution_count": 3,
   "id": "63d01dd2-71fb-412b-bdfc-c1054e6ca7dc",
   "metadata": {},
   "outputs": [],
   "source": [
    "@utilitools.subscriptable(list)\n",
    "def fibonacci():\n",
    "    a, b = 0, 1\n",
    "    yield a\n",
    "    while True:\n",
    "        a, b = b, a + b\n",
    "        yield a"
   ]
  },
  {
   "cell_type": "code",
   "execution_count": 4,
   "id": "a54bbbe7-4f7b-463a-a69f-70f71f2cd4f8",
   "metadata": {},
   "outputs": [
    {
     "data": {
      "text/plain": [
       "6"
      ]
     },
     "execution_count": 4,
     "metadata": {},
     "output_type": "execute_result"
    }
   ],
   "source": [
    "digsum[123]"
   ]
  },
  {
   "cell_type": "code",
   "execution_count": 5,
   "id": "e13914b5-9e64-485b-879c-27e226048955",
   "metadata": {},
   "outputs": [
    {
     "data": {
      "text/plain": [
       "(1, 4, 7, 10)"
      ]
     },
     "execution_count": 5,
     "metadata": {},
     "output_type": "execute_result"
    }
   ],
   "source": [
    "digsum[10:20:3]"
   ]
  },
  {
   "cell_type": "code",
   "execution_count": 6,
   "id": "16da0500-7aef-4db0-8580-0f5e62213be4",
   "metadata": {},
   "outputs": [
    {
     "data": {
      "text/plain": [
       "22698374052006863956975682"
      ]
     },
     "execution_count": 6,
     "metadata": {},
     "output_type": "execute_result"
    }
   ],
   "source": [
    "fibonacci[123]"
   ]
  },
  {
   "cell_type": "code",
   "execution_count": 7,
   "id": "b8b4e576-481a-44f0-8a37-1954744c023d",
   "metadata": {},
   "outputs": [
    {
     "data": {
      "text/plain": [
       "[55, 233, 987, 4181]"
      ]
     },
     "execution_count": 7,
     "metadata": {},
     "output_type": "execute_result"
    }
   ],
   "source": [
    "fibonacci[10:20:3]"
   ]
  },
  {
   "cell_type": "code",
   "execution_count": null,
   "id": "21e0cf4c-051a-4ec1-98b2-0e4a65c07f67",
   "metadata": {},
   "outputs": [],
   "source": []
  }
 ],
 "metadata": {
  "kernelspec": {
   "display_name": "test",
   "language": "python",
   "name": "test"
  },
  "language_info": {
   "codemirror_mode": {
    "name": "ipython",
    "version": 3
   },
   "file_extension": ".py",
   "mimetype": "text/x-python",
   "name": "python",
   "nbconvert_exporter": "python",
   "pygments_lexer": "ipython3",
   "version": "3.10.4"
  }
 },
 "nbformat": 4,
 "nbformat_minor": 5
}
